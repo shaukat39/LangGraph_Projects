{
 "cells": [
  {
   "cell_type": "markdown",
   "id": "a8520f29",
   "metadata": {},
   "source": [
    "### LangGraph Prototype-Researcher & Blog Writer"
   ]
  },
  {
   "cell_type": "code",
   "execution_count": null,
   "id": "aa8776cc",
   "metadata": {},
   "outputs": [],
   "source": [
    "pip install langchain"
   ]
  },
  {
   "cell_type": "code",
   "execution_count": null,
   "id": "78f9fc1e",
   "metadata": {},
   "outputs": [],
   "source": [
    "pip install langchain-openai"
   ]
  },
  {
   "cell_type": "code",
   "execution_count": null,
   "id": "7037eab2",
   "metadata": {},
   "outputs": [],
   "source": [
    "pip install langchain-community"
   ]
  },
  {
   "cell_type": "code",
   "execution_count": null,
   "id": "19932e31",
   "metadata": {},
   "outputs": [],
   "source": [
    "pip install langgraph"
   ]
  },
  {
   "cell_type": "code",
   "execution_count": null,
   "id": "b0e8d116",
   "metadata": {},
   "outputs": [],
   "source": [
    "from langgraph.graph import StateGraph, END\n",
    "from langchain.chat_models import ChatOpenAI\n",
    "from langchain.agents import Tool, AgentExecutor, create_tool_calling_agent\n",
    "from langchain.tools import tool\n",
    "\n",
    "# Define tools\n",
    "@tool\n",
    "\n",
    "def web_research(topic: str) -> str:\n",
    "    \"\"\"Fetches research information about the given topic.\"\"\"\n",
    "    return f\"Research info about: {topic} (stubbed)\"\n",
    "\n",
    "# Agents\n",
    "llm = ChatOpenAI(model=\"gpt-4\")\n",
    "research_agent = create_tool_calling_agent(llm, [web_research])\n",
    "writer_agent = create_tool_calling_agent(llm, [])\n",
    "\n",
    "research_executor = AgentExecutor(agent=research_agent, tools=[web_research], verbose=True)\n",
    "writer_executor = AgentExecutor(agent=writer_agent, tools=[], verbose=True)\n",
    "\n",
    "# Define states\n",
    "def research_node(state):\n",
    "    topic = state[\"topic\"]\n",
    "    research = research_executor.invoke({\"input\": f\"Research about {topic}\"})\n",
    "    return {\"topic\": topic, \"research\": research[\"output\"]}\n",
    "\n",
    "def writing_node(state):\n",
    "    research = state[\"research\"]\n",
    "    output = writer_executor.invoke({\"input\": f\"Create a blog outline using this research: {research}\"})\n",
    "    return {\"output\": output[\"output\"]}\n",
    "\n",
    "# Graph\n",
    "builder = StateGraph()\n",
    "builder.add_node(\"research\", research_node)\n",
    "builder.add_node(\"write\", writing_node)\n",
    "\n",
    "builder.set_entry_point(\"research\")\n",
    "builder.add_edge(\"research\", \"write\")\n",
    "builder.set_finish_point(\"write\")\n",
    "\n",
    "graph = builder.compile()\n",
    "result = graph.invoke({\"topic\": \"AI in education\"})\n",
    "print(result[\"output\"])\n",
    "# Output the result\n",
    "if __name__ == \"__main__\":\n",
    "    print(\"Blog outline generation complete.\")\n",
    "    print(result[\"output\"])"
   ]
  }
 ],
 "metadata": {
  "kernelspec": {
   "display_name": "ml_ws",
   "language": "python",
   "name": "python3"
  },
  "language_info": {
   "codemirror_mode": {
    "name": "ipython",
    "version": 3
   },
   "file_extension": ".py",
   "mimetype": "text/x-python",
   "name": "python",
   "nbconvert_exporter": "python",
   "pygments_lexer": "ipython3",
   "version": "3.10.16"
  }
 },
 "nbformat": 4,
 "nbformat_minor": 5
}
