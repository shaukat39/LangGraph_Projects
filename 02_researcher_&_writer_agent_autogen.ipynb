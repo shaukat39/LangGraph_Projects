{
 "cells": [
  {
   "cell_type": "markdown",
   "id": "1bf5fa79",
   "metadata": {},
   "source": [
    "### AutoGen Prototype-Researcher & Blog Writer"
   ]
  },
  {
   "cell_type": "code",
   "execution_count": null,
   "id": "0b5e94cc",
   "metadata": {},
   "outputs": [],
   "source": [
    "pip install autogen"
   ]
  },
  {
   "cell_type": "code",
   "execution_count": null,
   "id": "48e32e0f",
   "metadata": {},
   "outputs": [],
   "source": [
    "from autogen import AssistantAgent, UserProxyAgent, GroupChat, GroupChatManager\n",
    "\n",
    "# Agents\n",
    "researcher = AssistantAgent(\"researcher\", llm_config={\"model\": \"gpt-4\"})\n",
    "writer = AssistantAgent(\"writer\", llm_config={\"model\": \"gpt-4\"})\n",
    "user = UserProxyAgent(\"user\")\n",
    "\n",
    "# Group Chat\n",
    "group_chat = GroupChat(\n",
    "    agents=[user, researcher, writer],\n",
    "    messages=[],\n",
    "    max_round=5\n",
    ")\n",
    "manager = GroupChatManager(groupchat=group_chat, llm_config={\"model\": \"gpt-4\"})\n",
    "\n",
    "# Task kickoff\n",
    "user.initiate_chat(\n",
    "    manager,\n",
    "    message=\"Research about 'AI in education' and then prepare a blog outline.\"\n",
    ")\n",
    "# Run the group chat\n",
    "manager.run()\n",
    "# Output the chat history\n",
    "for message in group_chat.messages:\n",
    "    print(f\"{message.sender.name}: {message.content}\")\n",
    "# Output the final blog outline\n",
    "if writer.outline:\n",
    "    print(\"\\nFinal Blog Outline:\")\n",
    "    for section in writer.outline:\n",
    "        print(f\"- {section}\")"
   ]
  }
 ],
 "metadata": {
  "kernelspec": {
   "display_name": "base",
   "language": "python",
   "name": "python3"
  },
  "language_info": {
   "codemirror_mode": {
    "name": "ipython",
    "version": 3
   },
   "file_extension": ".py",
   "mimetype": "text/x-python",
   "name": "python",
   "nbconvert_exporter": "python",
   "pygments_lexer": "ipython3",
   "version": "3.12.9"
  }
 },
 "nbformat": 4,
 "nbformat_minor": 5
}
