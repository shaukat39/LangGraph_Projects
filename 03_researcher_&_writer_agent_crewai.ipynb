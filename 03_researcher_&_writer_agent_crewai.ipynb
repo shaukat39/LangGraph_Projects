{
 "cells": [
  {
   "cell_type": "markdown",
   "id": "6a0b2867",
   "metadata": {},
   "source": [
    "### CrewAI Prototype-Researcher & Blog Writer"
   ]
  },
  {
   "cell_type": "code",
   "execution_count": null,
   "id": "9d485deb",
   "metadata": {},
   "outputs": [],
   "source": [
    "pip install crewai\n"
   ]
  },
  {
   "cell_type": "code",
   "execution_count": null,
   "id": "fc2445f7",
   "metadata": {},
   "outputs": [],
   "source": [
    "from crewai import Agent, Task, Crew\n",
    "from langchain.chat_models import ChatOpenAI\n",
    "\n",
    "llm = ChatOpenAI(model=\"gpt-4\")\n",
    "\n",
    "# Agents\n",
    "researcher = Agent(\n",
    "    name=\"Researcher\",\n",
    "    role=\"Academic Researcher\",\n",
    "    goal=\"Collect useful insights about AI in education\",\n",
    "    backstory=\"Expert in educational technology.\",\n",
    "    llm=llm\n",
    ")\n",
    "\n",
    "writer = Agent(\n",
    "    name=\"Writer\",\n",
    "    role=\"Content Writer\",\n",
    "    goal=\"Write structured blog outlines from research\",\n",
    "    backstory=\"Skilled at simplifying technical content.\",\n",
    "    llm=llm\n",
    ")\n",
    "\n",
    "# Tasks\n",
    "research_task = Task(\n",
    "    description=\"Find recent trends and insights on AI in education.\",\n",
    "    expected_output=\"A list of 5-7 key research points.\",\n",
    "    agent=researcher\n",
    ")\n",
    "\n",
    "write_task = Task(\n",
    "    description=\"Use the research to create a blog outline.\",\n",
    "    expected_output=\"An outline with title, intro, and 3-5 section headings.\",\n",
    "    agent=writer\n",
    ")\n",
    "\n",
    "# Crew\n",
    "crew = Crew(\n",
    "    agents=[researcher, writer],\n",
    "    tasks=[research_task, write_task],\n",
    "    verbose=True\n",
    ")\n",
    "\n",
    "result = crew.kickoff()\n",
    "print(result)\n"
   ]
  }
 ],
 "metadata": {
  "kernelspec": {
   "display_name": "ml_ws",
   "language": "python",
   "name": "python3"
  },
  "language_info": {
   "codemirror_mode": {
    "name": "ipython",
    "version": 3
   },
   "file_extension": ".py",
   "mimetype": "text/x-python",
   "name": "python",
   "nbconvert_exporter": "python",
   "pygments_lexer": "ipython3",
   "version": "3.10.16"
  }
 },
 "nbformat": 4,
 "nbformat_minor": 5
}
